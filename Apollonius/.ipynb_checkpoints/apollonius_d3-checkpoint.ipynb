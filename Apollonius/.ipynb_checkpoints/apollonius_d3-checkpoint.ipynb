{
 "cells": [
  {
   "cell_type": "code",
   "execution_count": 1,
   "metadata": {
    "collapsed": false,
    "deletable": true,
    "editable": true
   },
   "outputs": [
    {
     "name": "stdout",
     "output_type": "stream",
     "text": [
      "PHCv2.4.33 released 2017-01-05 works!\n"
     ]
    }
   ],
   "source": [
    "# forks homepages.math.uic.edu/~jan/phcpy_doc_html/apollonius.html\n",
    "from phcpy.solver import solve\n",
    "from phcpy.solutions import strsol2dict, is_real"
   ]
  },
  {
   "cell_type": "code",
   "execution_count": 2,
   "metadata": {
    "collapsed": false,
    "deletable": true,
    "editable": true
   },
   "outputs": [],
   "source": [
    "def polynomials(c2x, r2, c3x, c3y, r3):\n",
    "    \"\"\"\n",
    "    On input are the five parameters of the circle problem of Apollonius:\n",
    "    c2x : the x-coordinate of the center of the second circle,\n",
    "    r2 : the radius of the second circle,\n",
    "    c3x : the x-coordinate of the center of the third circle,\n",
    "    c3y : the y-coordinate of the center of the third circle,\n",
    "    r3 : the radius of the third circle.\n",
    "    Returns a list of lists.  Each list contains a polynomial system.\n",
    "    Solutions to each polynomial system define center (x, y) and radius r\n",
    "    of a circle touching three given circles.\n",
    "    \"\"\"\n",
    "    # HACK: '--' is parsed as subtraction, not addition.\n",
    "    #       But '+-' is parsed as subtraction, and '++' as addition.\n",
    "    \n",
    "    e1m = 'x^2 + y^2 - (r-1)^2;'\n",
    "    e1p = 'x^2 + y^2 - (r+1)^2;'\n",
    "    e2m = '(x+%.15f)^2 + y^2 - (r-%.15f)^2;' % (-c2x, r2)\n",
    "    e2p = '(x+%.15f)^2 + y^2 - (r+%.15f)^2;' % (-c2x, r2)\n",
    "    e3m = '(x+%.15f)^2 + (y+%.15f)^2 - (r-%.15f)^2;' % (-c3x, -c3y, r3)\n",
    "    e3p = '(x+%.15f)^2 + (y+%.15f)^2 - (r+%.15f)^2;' % (-c3x, -c3y, r3)\n",
    "    eqs = [[a,b,c] for a in [e1m,e1p]\n",
    "                    for b in [e2m,e2p]\n",
    "                      for c in [e3m,e3p]]\n",
    "    return eqs\n",
    "\n",
    "def solve4circles(syst, verbose=True):\n",
    "    \"\"\"\n",
    "    Given in syst is a list of polynomial systems.\n",
    "    Returns a list of tuples.  Each tuple in the list of return\n",
    "    consists of the coordinates of the center and the radius of\n",
    "    a circle touching the three given circles.\n",
    "    \"\"\"\n",
    "    (circle, eqscnt) = (0, 0)\n",
    "    result = []\n",
    "    for eqs in syst:\n",
    "        eqscnt = eqscnt + 1\n",
    "        if verbose:\n",
    "            print('solving system', eqscnt, ':')\n",
    "            for pol in eqs:\n",
    "                print(pol)\n",
    "                \n",
    "        sols = solve(eqs, silent=True)\n",
    "        if verbose:\n",
    "            print('system', eqscnt, 'has', len(sols), 'solutions')\n",
    "            \n",
    "        for sol in sols:\n",
    "            if is_real(sol, 1.0e-8):\n",
    "                soldic = strsol2dict(sol)\n",
    "                \n",
    "                if soldic['r'].real > 0:\n",
    "                    circle = circle + 1\n",
    "                    result.append({\"x\": soldic[\"x\"].real,\n",
    "                                  \"y\": soldic[\"y\"].real,\n",
    "                                  \"r\": soldic[\"r\"].real})\n",
    "                    if verbose:\n",
    "                        print('solution circle', circle)\n",
    "                        # print('center =', ctr)\n",
    "                        # print('radius =', rad)\n",
    "    return result # will be JSONified by jupyter"
   ]
  },
  {
   "cell_type": "code",
   "execution_count": 3,
   "metadata": {
    "collapsed": false,
    "deletable": true,
    "editable": true
   },
   "outputs": [
    {
     "data": {
      "application/javascript": [
       "// uncomment & rerun if d3 fails to load\n",
       "/* require.config({\n",
       "    paths: {\n",
       "        d3 : 'https://d3js.org/d3.v4.min',\n",
       "    }\n",
       "}); */ \n",
       "console.log(d3)"
      ],
      "text/plain": [
       "<IPython.core.display.Javascript object>"
      ]
     },
     "metadata": {},
     "output_type": "display_data"
    }
   ],
   "source": [
    "%%javascript\n",
    "// uncomment & rerun if d3 fails to load\n",
    "/* require.config({\n",
    "    paths: {\n",
    "        d3 : 'https://d3js.org/d3.v4.min',\n",
    "    }\n",
    "}); */ \n",
    "console.log(d3)"
   ]
  },
  {
   "cell_type": "code",
   "execution_count": 6,
   "metadata": {
    "collapsed": false,
    "deletable": true,
    "editable": true
   },
   "outputs": [
    {
     "data": {
      "text/html": [
       "<svg id=\"apollonius\" width=\"960\" height=\"960\">\n",
       "</svg>\n",
       "\n",
       "<script src=\"apollonius_d3.js\"></script>"
      ],
      "text/plain": [
       "<IPython.core.display.HTML object>"
      ]
     },
     "metadata": {},
     "output_type": "display_data"
    }
   ],
   "source": [
    "%%html\n",
    "<svg id=\"apollonius\" width=\"960\" height=\"960\">\n",
    "</svg>\n",
    "\n",
    "<script src=\"apollonius_d3.js\"></script>"
   ]
  },
  {
   "cell_type": "code",
   "execution_count": null,
   "metadata": {
    "collapsed": true,
    "deletable": true,
    "editable": true
   },
   "outputs": [],
   "source": []
  }
 ],
 "metadata": {
  "anaconda-cloud": {},
  "kernelspec": {
   "display_name": "SageMath 7.0",
   "language": "",
   "name": "sagemath"
  },
  "language_info": {
   "codemirror_mode": {
    "name": "ipython",
    "version": 2
   },
   "file_extension": ".py",
   "mimetype": "text/x-python",
   "name": "python",
   "nbconvert_exporter": "python",
   "pygments_lexer": "ipython2",
   "version": "2.7.10"
  }
 },
 "nbformat": 4,
 "nbformat_minor": 2
}
