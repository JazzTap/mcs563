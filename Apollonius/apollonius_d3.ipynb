{
 "cells": [
  {
   "cell_type": "code",
   "execution_count": 5,
   "metadata": {
    "collapsed": false
   },
   "outputs": [
    {
     "name": "stdout",
     "output_type": "stream",
     "text": [
      "solving system 1 :\n",
      "x^2 + y^2 - (r-1)^2;\n",
      "(x+0.000000000000000)^2 + y^2 - (r-1.000000000000000)^2;\n",
      "(x+-1.000000000000000)^2 + (y+-1.000000000000000)^2 - (r-1.000000000000000)^2;\n",
      "system 1 has 2 solutions\n",
      "solving system 2 :\n",
      "x^2 + y^2 - (r-1)^2;\n",
      "(x+0.000000000000000)^2 + y^2 - (r-1.000000000000000)^2;\n",
      "(x+-1.000000000000000)^2 + (y+-1.000000000000000)^2 - (r+1.000000000000000)^2;\n",
      "system 2 has 4 solutions\n",
      "solving system 3 :\n",
      "x^2 + y^2 - (r-1)^2;\n",
      "(x+0.000000000000000)^2 + y^2 - (r+1.000000000000000)^2;\n",
      "(x+-1.000000000000000)^2 + (y+-1.000000000000000)^2 - (r-1.000000000000000)^2;\n",
      "system 3 has 2 solutions\n",
      "solution circle 1\n",
      "solution circle 2\n",
      "solving system 4 :\n",
      "x^2 + y^2 - (r-1)^2;\n",
      "(x+0.000000000000000)^2 + y^2 - (r+1.000000000000000)^2;\n",
      "(x+-1.000000000000000)^2 + (y+-1.000000000000000)^2 - (r+1.000000000000000)^2;\n",
      "system 4 has 2 solutions\n",
      "solution circle 3\n",
      "solution circle 4\n",
      "solving system 5 :\n",
      "x^2 + y^2 - (r+1)^2;\n",
      "(x+0.000000000000000)^2 + y^2 - (r-1.000000000000000)^2;\n",
      "(x+-1.000000000000000)^2 + (y+-1.000000000000000)^2 - (r-1.000000000000000)^2;\n",
      "system 5 has 2 solutions\n",
      "solution circle 5\n",
      "solving system 6 :\n",
      "x^2 + y^2 - (r+1)^2;\n",
      "(x+0.000000000000000)^2 + y^2 - (r-1.000000000000000)^2;\n",
      "(x+-1.000000000000000)^2 + (y+-1.000000000000000)^2 - (r+1.000000000000000)^2;\n",
      "system 6 has 2 solutions\n",
      "solution circle 6\n",
      "solution circle 7\n",
      "solving system 7 :\n",
      "x^2 + y^2 - (r+1)^2;\n",
      "(x+0.000000000000000)^2 + y^2 - (r+1.000000000000000)^2;\n",
      "(x+-1.000000000000000)^2 + (y+-1.000000000000000)^2 - (r-1.000000000000000)^2;\n",
      "system 7 has 4 solutions\n",
      "solving system 8 :\n",
      "x^2 + y^2 - (r+1)^2;\n",
      "(x+0.000000000000000)^2 + y^2 - (r+1.000000000000000)^2;\n",
      "(x+-1.000000000000000)^2 + (y+-1.000000000000000)^2 - (r+1.000000000000000)^2;\n",
      "system 8 has 2 solutions\n"
     ]
    },
    {
     "data": {
      "text/plain": [
       "[{'r': 7.0039566221682e-18, 'x': 1.0, 'y': -3.40257294503977e-18},\n",
       " {'r': 1.56016692724062e-17, 'x': 0.0, 'y': 1.0},\n",
       " {'r': 6.93889390390723e-18, 'x': 0.0, 'y': 1.0},\n",
       " {'r': 1.30104393047007e-17, 'x': 1.0, 'y': 2.92646743976242e-17},\n",
       " {'r': 1.80898708962733e-17, 'x': 1.0, 'y': -2.35962731689431e-17},\n",
       " {'r': 1.64832611535687e-18, 'x': 0.0, 'y': 1.0},\n",
       " {'r': 1.06285694841855e-17, 'x': 1.0, 'y': 2.89534569095049e-17}]"
      ]
     },
     "execution_count": 5,
     "metadata": {},
     "output_type": "execute_result"
    }
   ],
   "source": [
    "from __future__ import print_function\n",
    "# forks homepages.math.uic.edu/~jan/phcpy_doc_html/apollonius.html\n",
    "# (Verschelde)\n",
    "\n",
    "def polynomials(c2x, r2, c3x, c3y, r3):\n",
    "    \"\"\"\n",
    "    On input are the five parameters of the circle problem of Apollonius:\n",
    "    c2x : the x-coordinate of the center of the second circle,\n",
    "    r2 : the radius of the second circle,\n",
    "    c3x : the x-coordinate of the center of the third circle,\n",
    "    c3y : the y-coordinate of the center of the third circle,\n",
    "    r3 : the radius of the third circle.\n",
    "    Returns a list of lists.  Each list contains a polynomial system.\n",
    "    Solutions to each polynomial system define center (x, y) and radius r\n",
    "    of a circle touching three given circles.\n",
    "    \"\"\"\n",
    "    # HACK: prevent absval-ing resulting from '--' treated as '-'.\n",
    "    e1m = 'x^2 + y^2 - (r-1)^2;'\n",
    "    e1p = 'x^2 + y^2 - (r+1)^2;'\n",
    "    e2m = '(x+%.15f)^2 + y^2 - (r-%.15f)^2;' % (-c2x, r2)\n",
    "    e2p = '(x+%.15f)^2 + y^2 - (r+%.15f)^2;' % (-c2x, r2)\n",
    "    e3m = '(x+%.15f)^2 + (y+%.15f)^2 - (r-%.15f)^2;' % (-c3x, -c3y, r3)\n",
    "    e3p = '(x+%.15f)^2 + (y+%.15f)^2 - (r+%.15f)^2;' % (-c3x, -c3y, r3)\n",
    "    eqs = [[a,b,c] for a in [e1m,e1p]\n",
    "                    for b in [e2m,e2p]\n",
    "                      for c in [e3m,e3p]]\n",
    "    return eqs\n",
    "\n",
    "def solve4circles(syst, verbose=True):\n",
    "    \"\"\"\n",
    "    Given in syst is a list of polynomial systems.\n",
    "    Returns a list of tuples.  Each tuple in the list of return\n",
    "    consists of the coordinates of the center and the radius of\n",
    "    a circle touching the three given circles.\n",
    "    \"\"\"\n",
    "    from phcpy.solver import solve\n",
    "    from phcpy.solutions import strsol2dict, is_real\n",
    "    # Want PHCpy in your own SageMathCLoud? Instructions here:\n",
    "    # https://cloud.sagemath.com/projects/0a559efe-d127-4239-b30c-f3fe7fc5e911/files/INSTALL.md\n",
    "    \n",
    "    (circle, eqscnt) = (0, 0)\n",
    "    result = []\n",
    "    for eqs in syst:\n",
    "        eqscnt = eqscnt + 1\n",
    "        if verbose:\n",
    "            print('solving system', eqscnt, ':')\n",
    "            for pol in eqs:\n",
    "                print(pol)\n",
    "                \n",
    "        sols = solve(eqs, silent=True)\n",
    "        if verbose:\n",
    "            print('system', eqscnt, 'has', len(sols), 'solutions')\n",
    "            \n",
    "        for sol in sols:\n",
    "            if is_real(sol, 1.0e-8):\n",
    "                soldic = strsol2dict(sol)\n",
    "                \n",
    "                if soldic['r'].real > 0:\n",
    "                    circle = circle + 1\n",
    "                    result.append({\"x\": soldic[\"x\"].real,\n",
    "                                  \"y\": soldic[\"y\"].real,\n",
    "                                  \"r\": soldic[\"r\"].real})\n",
    "                    if verbose:\n",
    "                        print('solution circle', circle)\n",
    "                        # print('center =', ctr)\n",
    "                        # print('radius =', rad)\n",
    "    return result # will be JSONified by jupyter\n",
    "\n",
    "solve4circles(polynomials(0,1, 1,1,1))\n",
    "# NOTE: print statements in python code called from js are swallowed."
   ]
  },
  {
   "cell_type": "code",
   "execution_count": 6,
   "metadata": {
    "collapsed": false
   },
   "outputs": [
    {
     "data": {
      "application/javascript": [
       "require.config({\n",
       "    paths: {\n",
       "        d3 : 'https://d3js.org/d3.v3.min',\n",
       "        // FIXME: using v3 as it is monolithic, so easier to load than v4\n",
       "    }\n",
       "});\n",
       "requirejs(['d3'], function(d3) {\n",
       "  // we're guaranteed a d3 handle in here, but eventually it'll load for the entire page.\n",
       "  console.log(d3)\n",
       "})"
      ],
      "text/plain": [
       "<IPython.core.display.Javascript object>"
      ]
     },
     "metadata": {},
     "output_type": "display_data"
    }
   ],
   "source": [
    "%%javascript\n",
    "require.config({\n",
    "    paths: {\n",
    "        d3 : 'https://d3js.org/d3.v3.min',\n",
    "        // FIXME: using v3 as it is monolithic, so easier to load than v4\n",
    "    }\n",
    "});\n",
    "requirejs(['d3'], function(d3) {\n",
    "  // we're guaranteed a d3 handle in here, but eventually it'll load for the entire page.\n",
    "  console.log(d3)\n",
    "})"
   ]
  },
  {
   "cell_type": "code",
   "execution_count": 7,
   "metadata": {
    "collapsed": false
   },
   "outputs": [
    {
     "data": {
      "text/html": [
       "<svg id=\"apollonius\" width=\"960\" height=\"960\">\n",
       "</svg>\n",
       "\n",
       "<script src=\"apollonius_d3.js\"></script>"
      ],
      "text/plain": [
       "<IPython.core.display.HTML object>"
      ]
     },
     "metadata": {},
     "output_type": "display_data"
    }
   ],
   "source": [
    "%%html\n",
    "<svg id=\"apollonius\" width=\"960\" height=\"960\">\n",
    "</svg>\n",
    "\n",
    "<script src=\"apollonius_d3.js\"></script>"
   ]
  },
  {
   "cell_type": "code",
   "execution_count": null,
   "metadata": {
    "collapsed": true
   },
   "outputs": [],
   "source": []
  }
 ],
 "metadata": {
  "anaconda-cloud": {},
  "kernelspec": {
   "display_name": "SageMath 7.5",
   "language": "",
   "name": "sagemath"
  },
  "language_info": {
   "codemirror_mode": {
    "name": "ipython",
    "version": 2
   },
   "file_extension": ".py",
   "mimetype": "text/x-python",
   "name": "python",
   "nbconvert_exporter": "python",
   "pygments_lexer": "ipython2",
   "version": "2.7.13"
  }
 },
 "nbformat": 4,
 "nbformat_minor": 2
}
