{
 "cells": [
  {
   "cell_type": "code",
   "execution_count": 28,
   "metadata": {
    "collapsed": false
   },
   "outputs": [
    {
     "data": {
      "text/plain": [
       "<type 'sage.rings.polynomial.multi_polynomial_libsingular.MPolynomial_libsingular'>"
      ]
     },
     "execution_count": 28,
     "metadata": {},
     "output_type": "execute_result"
    }
   ],
   "source": [
    "x,y,r, c2x,r2 = QQ['x,y,r, c2x,r2'].gens()\n",
    "type(x)"
   ]
  },
  {
   "cell_type": "code",
   "execution_count": 29,
   "metadata": {
    "collapsed": false
   },
   "outputs": [
    {
     "data": {
      "text/plain": [
       "Ideal (x^2 + y^2 - r^2 + 2*r - 1, x^2 + y^2 - r^2 - 2*r - 1, x^2 + y^2 - r^2 - 2*x*c2x + c2x^2 + 2*r*r2 - r2^2, x^2 + y^2 - r^2 - 2*x*c2x + c2x^2 - 2*r*r2 - r2^2) of Multivariate Polynomial Ring in x, y, r, c2x, r2 over Rational Field"
      ]
     },
     "execution_count": 29,
     "metadata": {},
     "output_type": "execute_result"
    }
   ],
   "source": [
    "# c2x,r2 = QQ['c2x,r2'].gens()\n",
    "\n",
    "# c2x = QQ(2); r2 = QQ(1)\n",
    "# c3x = QQ(3/2); c3y = QQ(2); r3 = QQ(1)\n",
    "\n",
    "I = ideal(\n",
    "    x^2 + y^2 - (r-1)^2,\n",
    "    x^2 + y^2 - (r+1)^2,\n",
    "    (x-c2x)^2 + y^2 - (r-r2)^2,\n",
    "    (x-c2x)^2 + y^2 - (r+r2)^2 # ,\n",
    "    # (x-c3x)**2 + (y-c3y)**2 - (r-r3)**2,\n",
    "    # (x-c3x)**2 + (y-c3y)**2 - (r+r3)**2\n",
    "    )\n",
    "I"
   ]
  },
  {
   "cell_type": "code",
   "execution_count": 30,
   "metadata": {
    "collapsed": false
   },
   "outputs": [
    {
     "data": {
      "text/plain": [
       "[y^2*c2x + 1/4*c2x^3 - 1/2*x*r2^2 - 1/4*c2x*r2^2 + 1/2*x - 3/4*c2x, x^2 + y^2 - 1, x*c2x - 1/2*c2x^2 + 1/2*r2^2 - 1/2, r]"
      ]
     },
     "execution_count": 30,
     "metadata": {},
     "output_type": "execute_result"
    }
   ],
   "source": [
    "B = I.groebner_basis()\n",
    "B"
   ]
  },
  {
   "cell_type": "code",
   "execution_count": null,
   "metadata": {
    "collapsed": false
   },
   "outputs": [],
   "source": [
    "x,y,r = var('x,y,r')\n",
    "c2x, r2, c3x, c3y, r3 = var('c2x, r2, c3x, c3y, r3')\n",
    "\n",
    "e1m = x^2 + y^2 - (r-1)^2\n",
    "e1p = x^2 + y^2 - (r+1)^2\n",
    "e2m = (x-c2x)^2 + y^2 - (r-r2)^2\n",
    "e2p = (x-c2x)^2 + y^2 - (r+r2)^2\n",
    "e3m = (x-c3x)^2 + (y-c3y)^2 - (r-r3)^2\n",
    "e3p = (x-c3x)^2 + (y-c3y)^2 - (r+r3)^2\n",
    "eqs = [[a,b,c] for a in [e1m,e1p]\n",
    "                for b in [e2m,e2p]\n",
    "                  for c in [e3m,e3p]]\n",
    "  \n",
    "print(eqs[0])\n",
    "# solve(eqs[0], [x,y,r])"
   ]
  },
  {
   "cell_type": "code",
   "execution_count": null,
   "metadata": {
    "collapsed": true
   },
   "outputs": [],
   "source": []
  }
 ],
 "metadata": {
  "kernelspec": {
   "display_name": "SageMath 7.0",
   "language": "",
   "name": "sagemath"
  },
  "language_info": {
   "codemirror_mode": {
    "name": "ipython",
    "version": 2
   },
   "file_extension": ".py",
   "mimetype": "text/x-python",
   "name": "python",
   "nbconvert_exporter": "python",
   "pygments_lexer": "ipython2",
   "version": "2.7.10"
  }
 },
 "nbformat": 4,
 "nbformat_minor": 2
}
