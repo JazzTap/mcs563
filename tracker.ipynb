{
 "cells": [
  {
   "cell_type": "code",
   "execution_count": 4,
   "metadata": {
    "collapsed": false
   },
   "outputs": [
    {
     "name": "stdout",
     "output_type": "stream",
     "text": [
      "using the blackbox solver ...\n",
      "t :  1.00000000000000E+00   7.47852612790996E+00\n",
      "m : 1\n",
      "the solution for t :\n",
      " x : -3.00000000000000E+00   5.63536292589461E-132\n",
      " y : -6.00000000000000E+00   0.00000000000000E+00\n",
      "== err :  3.400E-16 = rco :  3.163E-01 = res :  4.441E-16 =\n",
      "t :  1.00000000000000E+00   4.02457210556242E+00\n",
      "m : 3\n",
      "the solution for t :\n",
      " x :  1.00000000000000E+00  -3.21215370589586E-17\n",
      " y :  2.00000000000000E+00   6.43318160192304E-17\n",
      "== err :  2.417E-16 = rco :  7.386E-21 = res :  1.111E-16 =\n",
      "now we redo the computation for one path ...\n",
      "constructing a total degree start system ...\n",
      "number of start solutions : 4\n",
      "tracking one path ...\n",
      "t :  1.00000000000000E+00   0.00000000000000E+00\n",
      "m : 0\n",
      "the solution for t :\n",
      " x :  9.99997450467945E-01  -5.01095387603836E-06\n",
      " y :  2.00000509908003E+00   1.00218769662111E-05\n",
      "== err :  1.000E-05 = rco :  9.002E-12 = res :  1.189E-11 =\n"
     ]
    },
    {
     "data": {
      "text/plain": [
       "0"
      ]
     },
     "execution_count": 4,
     "metadata": {},
     "output_type": "execute_result"
    }
   ],
   "source": [
    "# from L-3 @ http://homepages.math.uic.edu/~jan/mcs563/index.html\n",
    "# TODO: mark turning points, real solutions / complex conjugates\n",
    "\n",
    "# %load usephcpy.py\n",
    "\"\"\"\n",
    "Illustration of a plot of solution paths\n",
    "computed with the aid of phcpy.\n",
    "\"\"\"\n",
    "# print 'we fix the seed for reproducibiliy ...'\n",
    "# from phcpy.phcpy2c import py2c_set_seed # n/a\n",
    "# py2c_set_seed(34234234)\n",
    "\n",
    "print 'using the blackbox solver ...'\n",
    "from phcpy.solver import solve\n",
    "\n",
    "p = ['x^2 + y - 3;', 'x + 0.125*y^2 - 1.5;']\n",
    "s = solve(p)\n",
    "for sol in s:\n",
    "   print sol\n",
    "\n",
    "print 'now we redo the computation for one path ...'\n",
    "print 'constructing a total degree start system ...'\n",
    "from phcpy.solver import total_degree_start_system as tds\n",
    "q, qsols = tds(p)\n",
    "\n",
    "print 'number of start solutions :', len(qsols)\n",
    "print 'tracking one path ...'\n",
    "from phcpy.trackers import standard_double_track as track\n",
    "ss = track(p,q,[qsols[0]])\n",
    "print ss[0]\n",
    "\n",
    "# print 'deflate the singular solution at the end ...'\n",
    "# from phcpy.solver import deflate # n/a\n",
    "# ds = deflate(p,[ss[0]])\n",
    "# print ds[0]\n",
    "\n",
    "from phcpy.trackers import initialize_standard_tracker\n",
    "from phcpy.trackers import initialize_standard_solution\n",
    "from phcpy.trackers import next_standard_solution\n",
    "initialize_standard_tracker(p,q)"
   ]
  },
  {
   "cell_type": "code",
   "execution_count": 8,
   "metadata": {
    "collapsed": false
   },
   "outputs": [
    {
     "data": {
      "image/png": "[encoded data removed]",
      "text/plain": [
       "<matplotlib.figure.Figure object at 0x7fdb6d09d4d0>"
      ]
     },
     "metadata": {},
     "output_type": "display_data"
    }
   ],
   "source": [
    "%matplotlib inline\n",
    "from phcpy.solutions import strsol2dict\n",
    "import matplotlib.pyplot as plt\n",
    "\n",
    "plt.ion()\n",
    "fig = plt.figure()\n",
    "for k in range(len(qsols)):\n",
    "   axs = fig.add_subplot(220 + k)\n",
    "   startsol = qsols[k]\n",
    "    \n",
    "   initialize_standard_solution(len(p),startsol)\n",
    "   dictsol = strsol2dict(startsol)\n",
    "   xpoints =  [dictsol['x']]\n",
    "   ypoints =  [dictsol['y']]\n",
    "    \n",
    "   for k in range(30):\n",
    "       ns = next_standard_solution()\n",
    "       dictsol = strsol2dict(ns)\n",
    "       xpoints.append(dictsol['x'])\n",
    "       ypoints.append(dictsol['y'])\n",
    "    \n",
    "   xre = [point.real for point in xpoints]\n",
    "   yre = [point.real for point in ypoints]\n",
    "   axs.set_xlim(min(xre)-0.3, max(xre)+0.3)\n",
    "   axs.set_ylim(min(yre)-0.3, max(yre)+0.3)\n",
    "   dots, = axs.plot(xre,yre,'ro')\n",
    "\n",
    "# fig.canvas.draw()\n",
    "# ans = raw_input('hit return to exit')"
   ]
  },
  {
   "cell_type": "code",
   "execution_count": null,
   "metadata": {
    "collapsed": true
   },
   "outputs": [],
   "source": []
  }
 ],
 "metadata": {
  "kernelspec": {
   "display_name": "SageMath 7.0",
   "language": "",
   "name": "sagemath"
  },
  "language_info": {
   "codemirror_mode": {
    "name": "ipython",
    "version": 2
   },
   "file_extension": ".py",
   "mimetype": "text/x-python",
   "name": "python",
   "nbconvert_exporter": "python",
   "pygments_lexer": "ipython2",
   "version": "2.7.10"
  }
 },
 "nbformat": 4,
 "nbformat_minor": 2
}
