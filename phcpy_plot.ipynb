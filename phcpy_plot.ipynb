{
 "cells": [
  {
   "cell_type": "code",
   "execution_count": 73,
   "metadata": {
    "collapsed": false
   },
   "outputs": [
    {
     "name": "stdout",
     "output_type": "stream",
     "text": [
      " z*u+y*v+t*w-w**2-1/2*w-1/2;\n",
      " z*u**2+y*v**2-t*w**2+w**3+w**2-1/3*t+4/3*w;\n",
      " x*z*v-t*w**2+w**3-1/2*t*w+w**2-1/6*t+2/3*w;\n",
      " z*u**3+y*v**3+t*w**3-w**4-3/2*w**3+t*w-5/2*w**2-1/4*w-1/4;\n",
      " x*z*u*v+t*w**3-w**4+1/2*t*w**2-3/2*w**3+1/2*t*w-7/4*w**2-3/8*w-1/8;\n",
      " x*z*v**2+t*w**3-w**4+t*w**2-3/2*w**3+2/3*t*w-7/6*w**2-1/12*w-1/12;\n",
      " -t*w**3+w**4-t*w**2+3/2*w**3-1/3*t*w+13/12*w**2+7/24*w+1/24;\n"
     ]
    }
   ],
   "source": [
	"# forked from ./Dropbox/Workbench/Jupyter/sage.ipynb 2/8/17\n",
    "from __future__ import print_function\n",
    "\n",
    "import phcpy\n",
    "from phcpy.examples import binomials\n",
    "from phcpy.solver import solve\n",
    "\n",
	"# butcher's problem, http://homepages.math.uic.edu/~jan/PHCpack/node10.html \n",
    "ex = \"\"\" z*u+y*v+t*w-w**2-1/2*w-1/2;\n",
    " z*u**2+y*v**2-t*w**2+w**3+w**2-1/3*t+4/3*w;\n",
    " x*z*v-t*w**2+w**3-1/2*t*w+w**2-1/6*t+2/3*w;\n",
    " z*u**3+y*v**3+t*w**3-w**4-3/2*w**3+t*w-5/2*w**2-1/4*w-1/4;\n",
    " x*z*u*v+t*w**3-w**4+1/2*t*w**2-3/2*w**3+1/2*t*w-7/4*w**2-3/8*w-1/8;\n",
    " x*z*v**2+t*w**3-w**4+t*w**2-3/2*w**3+2/3*t*w-7/6*w**2-1/12*w-1/12;\n",
    " -t*w**3+w**4-t*w**2+3/2*w**3-1/3*t*w+13/12*w**2+7/24*w+1/24;\"\"\".splitlines()\n",
    "\n",
    "# binomials()\n",
    "N = 7 # TODO: infer # vars from example\n",
    "# xs = ['x'+str(i+1) for i in range(N)]\n",
    "xs = ['z', 'u', 'y', 'v', 't', 'w', 'x']\n",
    "\n",
    "var(xs)\n",
    "for eq in ex: print(eq)"
   ]
  },
  {
   "cell_type": "code",
   "execution_count": 74,
   "metadata": {
    "collapsed": false
   },
   "outputs": [
    {
     "name": "stdout",
     "output_type": "stream",
     "text": [
      "{'names': ['dt', 'm', 'z', 'u', 'y', 'v', 't', 'w', 'x', 'err', 'rco', 'res'], 'formats': ['complex_', 'int_', 'complex_', 'complex_', 'complex_', 'complex_', 'complex_', 'complex_', 'complex_', 'float_', 'float_', 'float_']}\n",
      "[('dt', '<c16'), ('m', '<i8'), ('z', '<c16'), ('u', '<c16'), ('y', '<c16'), ('v', '<c16'), ('t', '<c16'), ('w', '<c16'), ('x', '<c16'), ('err', '<f8'), ('rco', '<f8'), ('res', '<f8')]\n",
      "((1+17.4578841504454j), 1, (-0.0229379273840319+1.33523787049595e-96j), (0.816496580927768-5.59240870806592e-96j), (-0.045875854768073+3.01200037350705e-96j), (0.408248290463833-7.15052911986191e-97j), (-1+7.57800640420148e-98j), (-0.908248290463865-4.45947960582692e-96j), (0.816496580927856+4.18644277779741e-95j), 6.03e-13, 0.0001775, 1.229e-15)\n"
     ]
    }
   ],
   "source": [
    "import re\n",
    "import numpy as np\n",
    "\n",
    "def parse(raw, N):\n",
    "    # convert substrings of form =* {} : {} {}* =* to tuples\n",
    "    r = re.compile('=*\\s*(\\S+)\\s+:\\s+(\\S+)\\s*(\\S*)[\\n=]')\n",
    "    tups = [r.findall(sol) for sol in raw]\n",
    "\n",
    "    def munge(tup):\n",
    "        # TODO: check name of each real- or complex-valued variable\n",
    "        return complex(float(tup[1]), float(tup[2])) if tup[2] \\\n",
    "                else float(tup[1])\n",
    "\n",
    "    # http://stackoverflow.com/a/15579807\n",
    "    forms = np.append(np.array(['complex_', 'int_']),\n",
    "                      np.repeat(['complex_', 'float_'], [N, 3])).tolist()\n",
    "    dtype = {'names': [tup[0] for tup in tups[0]],\n",
    "             'formats': forms}\n",
    "    \n",
    "    dtype['names'][0] = 'dt'\n",
    "    \n",
    "    print(dtype)\n",
    "\n",
    "    sols = np.zeros(len(tups), dtype=dtype)\n",
    "    for i in range(len(tups)):\n",
    "        sols[i] = tuple(munge(tup) for tup in tups[i])\n",
    "\n",
    "    return sols\n",
    "\n",
    "raw = solve(ex)\n",
    "sols = parse(raw, N)\n",
    "\n",
    "print(sols.dtype)\n",
    "print(sols[0])"
   ]
  },
  {
   "cell_type": "code",
   "execution_count": 75,
   "metadata": {
    "collapsed": false,
    "scrolled": false
   },
   "outputs": [
    {
     "name": "stdout",
     "output_type": "stream",
     "text": [
      "['z', 'u', 'y', 'v', 't', 'w', 'x']\n",
      " z*u+y*v+t*w-w**2-1/2*w-1/2    1.66533453694e-16\n",
      " z*u**2+y*v**2-t*w**2+w**3+w**2-1/3*t+4/3*w 2.22044604925e-16\n",
      " x*z*v-t*w**2+w**3-1/2*t*w+w**2-1/6*t+2/3*w 2.22044604925e-16\n",
      " z*u**3+y*v**3+t*w**3-w**4-3/2*w**3+t*w-5/2*w**2-1/4*w-1/4 4.16333634234e-16\n",
      " x*z*u*v+t*w**3-w**4+1/2*t*w**2-3/2*w**3+1/2*t*w-7/4*w**2-3/8*w-1/8 3.88578058619e-16\n",
      " x*z*v**2+t*w**3-w**4+t*w**2-3/2*w**3+2/3*t*w-7/6*w**2-1/12*w-1/12 6.93889390391e-17\n",
      " -t*w**3+w**4-t*w**2+3/2*w**3-1/3*t*w+13/12*w**2+7/24*w+1/24 9.02056207508e-17\n"
     ]
    }
   ],
   "source": [
    "# naiively evaluating the polynomials in sage introduces slight numeric error\n",
    "print(xs)\n",
    "loc = dict(zip(xs, sols[xs][0]))\n",
    "\n",
    "for line in ex:\n",
    "    eq = line[:-1] # drop trailing ;\n",
    "    print('{0:30} {1}'.format( eq, abs( sage_eval(eq, locals=loc)) ))"
   ]
  },
  {
   "cell_type": "code",
   "execution_count": 83,
   "metadata": {
    "collapsed": false
   },
   "outputs": [
    {
     "data": {
      "image/png": "[encoded data removed]",
      "text/plain": [
       "<matplotlib.figure.Figure object at 0x7fd325d99110>"
      ]
     },
     "metadata": {},
     "output_type": "display_data"
    }
   ],
   "source": [
    "%matplotlib inline\n",
    "import matplotlib.pyplot as mpl\n",
    "import matplotlib.cm as cm\n",
    "# from matplotlib.lines import Line2D # for mark in Line2D.filled_markers ...\n",
    "\n",
    "# loc = [dict(zip(xs, x)) for x in sols[xs]]\n",
    "sqrt_m = sqrt(len(sols))\n",
    "\n",
    "colors = cm.rainbow(np.linspace(0, 1, N)) # stackoverflow 12236566\n",
    "fig, axs = mpl.subplots(ncols=ceil(sqrt_m), nrows=floor(sqrt_m),\n",
    "                        sharey=True, sharex=True, figsize=(16,8))\n",
    "\n",
    "# plot each solution. TODO: encode axis redundantly by hue + brightness + shape\n",
    "for col, cor in zip(colors, xs):\n",
    "    for ax, sol in zip(axs.reshape(len(sols)), sols):\n",
    "        \n",
    "        # ax.axhline(color='.8'); ax.axvline(color='.8') # draw re/im axis\n",
    "        ax.scatter(0, 0, marker = '+')\n",
    "        ax.scatter(sol[cor].real, sol[cor].imag, color = col)"
   ]
  },
  {
   "cell_type": "code",
   "execution_count": 82,
   "metadata": {
    "collapsed": false
   },
   "outputs": [
    {
     "data": {
      "text/plain": [
       "array([  1.77500000e-04,   1.46100000e-03,   2.47700000e-03,\n",
       "         1.46100000e-03,   2.47400000e-19,   1.37300000e-02])"
      ]
     },
     "execution_count": 82,
     "metadata": {},
     "output_type": "execute_result"
    }
   ],
   "source": [
    "sols['rco'] # inverse condition number. TODO: filter out small."
   ]
  },
  {
   "cell_type": "code",
   "execution_count": null,
   "metadata": {
    "collapsed": true
   },
   "outputs": [],
   "source": []
  }
 ],
 "metadata": {
  "kernelspec": {
   "display_name": "SageMath 7.0",
   "language": "",
   "name": "sagemath"
  },
  "language_info": {
   "codemirror_mode": {
    "name": "ipython",
    "version": 2
   },
   "file_extension": ".py",
   "mimetype": "text/x-python",
   "name": "python",
   "nbconvert_exporter": "python",
   "pygments_lexer": "ipython2",
   "version": "2.7.10"
  }
 },
 "nbformat": 4,
 "nbformat_minor": 2
}
