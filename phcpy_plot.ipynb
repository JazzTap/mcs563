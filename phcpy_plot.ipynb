{
 "cells": [
  {
   "cell_type": "code",
   "execution_count": 1,
   "metadata": {
    "collapsed": false
   },
   "outputs": [
    {
     "name": "stdout",
     "output_type": "stream",
     "text": [
      "PHCv2.4.33 released 2017-01-05 works!\n",
      "4\n"
     ]
    }
   ],
   "source": [
    "# forked from ./Dropbox/Workbench/Jupyter/sage.ipynb 2/8/17\n",
    "from __future__ import print_function\n",
    "\n",
    "import phcpy\n",
    "from phcpy.solver import solve\n",
    "\n",
    "# from phcpy.examples import binomials\n",
    "# ex = binomials()\n",
    "# N = 4\n",
    "# xs = ['x'+str(i+1) for i in range(N)]\n",
    "'''\n",
    "# butcher's problem, http://homepages.math.uic.edu/~jan/PHCpack/node10.html \n",
    "ex = \"\"\" z*u+y*v+t*w-w**2-1/2*w-1/2;\n",
    " z*u**2+y*v**2-t*w**2+w**3+w**2-1/3*t+4/3*w;\n",
    " x*z*v-t*w**2+w**3-1/2*t*w+w**2-1/6*t+2/3*w;\n",
    " z*u**3+y*v**3+t*w**3-w**4-3/2*w**3+t*w-5/2*w**2-1/4*w-1/4;\n",
    " x*z*u*v+t*w**3-w**4+1/2*t*w**2-3/2*w**3+1/2*t*w-7/4*w**2-3/8*w-1/8;\n",
    " x*z*v**2+t*w**3-w**4+t*w**2-3/2*w**3+2/3*t*w-7/6*w**2-1/12*w-1/12;\n",
    " -t*w**3+w**4-t*w**2+3/2*w**3-1/3*t*w+13/12*w**2+7/24*w+1/24;\"\"\".splitlines()\n",
    "\n",
    "xs = ['z', 'u', 'y', 'v', 't', 'w', 'x']\n",
    "N = len(xs)\n",
    "'''\n",
    "\n",
    "# FIXME: load N, ex from standard phcpack input.\n",
    "\n",
    "with open('linkage.txt', 'r+') as f:\n",
    "    raw = f.read()\n",
    "    ex = raw.split(2*os.linesep)\n",
    "\n",
    "xs = ['X1','X2','Y1','Y2']\n",
    "N = len(xs)\n",
    "\n",
    "print( len(ex) ) # for eq in ex: print(eq)"
   ]
  },
  {
   "cell_type": "code",
   "execution_count": 2,
   "metadata": {
    "collapsed": false
   },
   "outputs": [
    {
     "name": "stdout",
     "output_type": "stream",
     "text": [
      "{'names': ['dt', 'm', 'X1', 'Y1', 'Y2', 'X2', 'err', 'rco', 'res'], 'formats': ['complex_', 'int_', 'complex_', 'complex_', 'complex_', 'complex_', 'float_', 'float_', 'float_']}\n",
      "[('dt', '<c16'), ('m', '<i8'), ('X1', '<c16'), ('Y1', '<c16'), ('Y2', '<c16'), ('X2', '<c16'), ('err', '<f8'), ('rco', '<f8'), ('res', '<f8')]\n",
      "(0j, 16, (2.58414528243157e-18-4.53301817477391e-18j), (-8.55691654675288e-18+9.00249779768793e-19j), (-6.10384172697094e-18-5.07371512461354e-18j), (-7.82445674473155e-18-7.94826502785941e-19j), 5.027e-16, 1.039e-17, 1.838e-34)\n"
     ]
    }
   ],
   "source": [
    "from phcpy_plot import parse, plot_phcpy\n",
    "\n",
    "raw = solve(ex) # TODO: run in background for systems with many roots\n",
    "sols = parse(raw, N)\n",
    "\n",
    "print(sols.dtype)\n",
    "print(sols[0])"
   ]
  },
  {
   "cell_type": "code",
   "execution_count": 3,
   "metadata": {
    "collapsed": false,
    "scrolled": false
   },
   "outputs": [
    {
     "name": "stdout",
     "output_type": "stream",
     "text": [
      "['X1', 'X2', 'Y1', 'Y2']\n"
     ]
    },
    {
     "data": {
      "text/plain": [
       "''"
      ]
     },
     "execution_count": 3,
     "metadata": {},
     "output_type": "execute_result"
    }
   ],
   "source": [
    "# naiively evaluating the polynomials in sage introduces slight numeric error\n",
    "print(xs)\n",
    "loc = dict(zip(xs, sols[xs][0]))\n",
    "\n",
    "var(xs) # prep SAGE\n",
    "'''\n",
    "for line in ex:\n",
    "    eq = line[:-1] # drop trailing ;\n",
    "    print('{0:30} {1}'.format( eq, abs( sage_eval(eq, locals=loc)) ))\n",
    "''' # FIXME: handle ** properly\n",
    ";"
   ]
  },
  {
   "cell_type": "code",
   "execution_count": 4,
   "metadata": {
    "collapsed": false
   },
   "outputs": [
    {
     "name": "stdout",
     "output_type": "stream",
     "text": [
      "36/59 solutions ok\n"
     ]
    },
    {
     "data": {
      "image/png": "[encoded data removed]",
      "text/plain": [
       "<matplotlib.figure.Figure object at 0x7f6c3687e290>"
      ]
     },
     "metadata": {},
     "output_type": "display_data"
    }
   ],
   "source": [
    "%matplotlib inline\n",
    "plot_phcpy(sols, xs)"
   ]
  },
  {
   "cell_type": "code",
   "execution_count": 5,
   "metadata": {
    "collapsed": false
   },
   "outputs": [
    {
     "data": {
      "text/plain": [
       "array([  1.03900000e-17,   5.50100000e-04,   4.05300000e-03,\n",
       "         7.91100000e-02,   5.49400000e-15,   2.96700000e-03,\n",
       "         7.07900000e-16,   1.28200000e-01,   2.07300000e-02,\n",
       "         3.35100000e-02,   1.28200000e-01,   3.39900000e-17,\n",
       "         8.28700000e-03,   2.18700000e-02,   5.14200000e-13,\n",
       "         3.49800000e-03,   2.29700000e-02,   2.66900000e-02,\n",
       "         7.91100000e-02,   1.11200000e-16,   2.66900000e-02,\n",
       "         2.70300000e-02,   7.20100000e-15,   4.04100000e-14,\n",
       "         2.82400000e-17,   4.05300000e-03,   7.71200000e-13,\n",
       "         2.13900000e-14,   1.62300000e-02,   4.28500000e-03,\n",
       "         6.38600000e-03,   1.62300000e-02,   4.28500000e-03,\n",
       "         1.02700000e-02,   2.18700000e-02,   8.97900000e-15,\n",
       "         3.35100000e-02,   3.63900000e-15,   1.02700000e-02,\n",
       "         6.32300000e-18,   1.00200000e-16,   4.89600000e-16,\n",
       "         8.01600000e-15,   2.36100000e-17,   8.28700000e-03,\n",
       "         6.38600000e-03,   1.10100000e-17,   4.41000000e-17,\n",
       "         3.81400000e-14,   8.09500000e-03,   2.29700000e-02,\n",
       "         2.70300000e-02,   5.50100000e-04,   2.58700000e-02,\n",
       "         8.09500000e-03,   2.58700000e-02,   2.07300000e-02,\n",
       "         2.79600000e-16,   2.97400000e-13])"
      ]
     },
     "execution_count": 5,
     "metadata": {},
     "output_type": "execute_result"
    }
   ],
   "source": [
    "sols['rco'] # inverse condition number. TODO: filter out small."
   ]
  },
  {
   "cell_type": "code",
   "execution_count": null,
   "metadata": {
    "collapsed": true
   },
   "outputs": [],
   "source": []
  }
 ],
 "metadata": {
  "kernelspec": {
   "display_name": "SageMath 7.0",
   "language": "",
   "name": "sagemath"
  },
  "language_info": {
   "codemirror_mode": {
    "name": "ipython",
    "version": 2
   },
   "file_extension": ".py",
   "mimetype": "text/x-python",
   "name": "python",
   "nbconvert_exporter": "python",
   "pygments_lexer": "ipython2",
   "version": "2.7.10"
  }
 },
 "nbformat": 4,
 "nbformat_minor": 2
}
